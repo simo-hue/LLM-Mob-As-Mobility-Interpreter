{
 "cells": [
  {
   "cell_type": "markdown",
   "id": "f278234a",
   "metadata": {},
   "source": [
    "# Analisi dei risultati delle raccomandazioni\n",
    "Questo notebook carica i file `.csv` presenti nella cartella `results/`, li unisce in un unico DataFrame e calcola alcune metriche di qualità (accuratezza globale, accuratezza per cluster, confusion matrix), visualizzando anche gli errori principali.\n"
   ]
  },
  {
   "cell_type": "code",
   "execution_count": null,
   "id": "2d30dabf",
   "metadata": {},
   "outputs": [],
   "source": [
    "import glob\n",
    "import ast\n",
    "import os\n",
    "def in_top_k(row, k):\n",
    "    preds = row['prediction_list']\n",
    "    # se non è lista, trattiamola come lista vuota\n",
    "    if not isinstance(preds, list):\n",
    "        preds = []\n",
    "    return row['ground_truth'] in preds[:k]\n",
    "\n",
    "# funzione per parsing della colonna prediction\n",
    "def safe_parse(string):\n",
    "    try:\n",
    "        return ast.literal_eval(string)\n",
    "    except (ValueError, SyntaxError):\n",
    "        return None\n",
    "\n",
    "# Percorso ai file CSV\n",
    "csv_files = glob.glob(os.path.join('results', '*.csv'))"
   ]
  },
  {
   "cell_type": "code",
   "execution_count": null,
   "id": "eb5a5900",
   "metadata": {},
   "outputs": [],
   "source": [
    "\n",
    "import pandas as pd\n",
    "\n",
    "if not csv_files:\n",
    "    raise FileNotFoundError('Non sono stati trovati file CSV nella cartella results/.')\n",
    "\n",
    "# Caricamento e concatenazione\n",
    "df_list = []\n",
    "for f in csv_files:\n",
    "    try:\n",
    "        df_list.append(pd.read_csv(f))\n",
    "    except Exception as e:\n",
    "        print(f\"Errore caricando {f}: {e}\")\n",
    "df = pd.concat(df_list, ignore_index=True)\n",
    "\n",
    "# Parsing della colonna prediction (lista di stringhe -> lista)\n",
    "df['prediction_list'] = df['prediction'].apply(safe_parse)\n",
    "\n",
    "# Top‑1 prediction\n",
    "df['pred_top1'] = df['prediction_list'].apply(lambda x: x[0] if isinstance(x, list) and x else None)\n",
    "\n",
    "# Funzione per k=5 e k=10\n",
    "df['hit_top5']  = df.apply(lambda r: in_top_k(r, 5),  axis=1)\n",
    "df['hit_top10'] = df.apply(lambda r: in_top_k(r, 10), axis=1)\n",
    "\n",
    "# Mostriamo le prime righe\n",
    "#df.head()\n"
   ]
  },
  {
   "cell_type": "code",
   "execution_count": null,
   "id": "cc3ec2e9",
   "metadata": {},
   "outputs": [
    {
     "name": "stdout",
     "output_type": "stream",
     "text": [
      "Accuratezza globale Top-1:  16.23%\n",
      "Accuratezza globale Top-5:  16.23%\n",
      "Accuratezza globale Top-10: 16.23%\n"
     ]
    }
   ],
   "source": [
    "\n",
    "# Accuratezza globale (basata sul campo 'hit' booleano)\n",
    "acc_top1  = df['hit'].mean()\n",
    "acc_top5  = df['hit_top5'].mean()\n",
    "acc_top10 = df['hit_top10'].mean()\n",
    "print(f\"Accuratezza globale Top-1:  {acc_top1:.2%}\")\n",
    "print(f\"Accuratezza globale Top-5:  {acc_top5:.2%}\")\n",
    "print(f\"Accuratezza globale Top-10: {acc_top10:.2%}\")\n"
   ]
  },
  {
   "cell_type": "code",
   "execution_count": null,
   "id": "cad9b821",
   "metadata": {},
   "outputs": [
    {
     "data": {
      "application/vnd.microsoft.datawrangler.viewer.v0+json": {
       "columns": [
        {
         "name": "cluster",
         "rawType": "int64",
         "type": "integer"
        },
        {
         "name": "Top1",
         "rawType": "float64",
         "type": "float"
        },
        {
         "name": "Top5",
         "rawType": "float64",
         "type": "float"
        },
        {
         "name": "Top10",
         "rawType": "float64",
         "type": "float"
        }
       ],
       "ref": "46848864-9585-4d19-80c3-b5717e51c6e9",
       "rows": [
        [
         "0",
         "0.1775045693397304",
         "0.1775045693397304",
         "0.1775045693397304"
        ],
        [
         "1",
         "0.21975131340812004",
         "0.21975131340812004",
         "0.21975131340812004"
        ],
        [
         "2",
         "0.16693719284007394",
         "0.16693719284007394",
         "0.16693719284007394"
        ],
        [
         "3",
         "0.15722384280918048",
         "0.15722384280918048",
         "0.15722384280918048"
        ],
        [
         "4",
         "0.14530398107190617",
         "0.14530398107190617",
         "0.14530398107190617"
        ],
        [
         "5",
         "0.043512359078495905",
         "0.043512359078495905",
         "0.043512359078495905"
        ],
        [
         "6",
         "0.17419429631347091",
         "0.17419429631347091",
         "0.17419429631347091"
        ]
       ],
       "shape": {
        "columns": 3,
        "rows": 7
       }
      },
      "text/html": [
       "<div>\n",
       "<style scoped>\n",
       "    .dataframe tbody tr th:only-of-type {\n",
       "        vertical-align: middle;\n",
       "    }\n",
       "\n",
       "    .dataframe tbody tr th {\n",
       "        vertical-align: top;\n",
       "    }\n",
       "\n",
       "    .dataframe thead th {\n",
       "        text-align: right;\n",
       "    }\n",
       "</style>\n",
       "<table border=\"1\" class=\"dataframe\">\n",
       "  <thead>\n",
       "    <tr style=\"text-align: right;\">\n",
       "      <th></th>\n",
       "      <th>Top1</th>\n",
       "      <th>Top5</th>\n",
       "      <th>Top10</th>\n",
       "    </tr>\n",
       "    <tr>\n",
       "      <th>cluster</th>\n",
       "      <th></th>\n",
       "      <th></th>\n",
       "      <th></th>\n",
       "    </tr>\n",
       "  </thead>\n",
       "  <tbody>\n",
       "    <tr>\n",
       "      <th>0</th>\n",
       "      <td>0.177505</td>\n",
       "      <td>0.177505</td>\n",
       "      <td>0.177505</td>\n",
       "    </tr>\n",
       "    <tr>\n",
       "      <th>1</th>\n",
       "      <td>0.219751</td>\n",
       "      <td>0.219751</td>\n",
       "      <td>0.219751</td>\n",
       "    </tr>\n",
       "    <tr>\n",
       "      <th>2</th>\n",
       "      <td>0.166937</td>\n",
       "      <td>0.166937</td>\n",
       "      <td>0.166937</td>\n",
       "    </tr>\n",
       "    <tr>\n",
       "      <th>3</th>\n",
       "      <td>0.157224</td>\n",
       "      <td>0.157224</td>\n",
       "      <td>0.157224</td>\n",
       "    </tr>\n",
       "    <tr>\n",
       "      <th>4</th>\n",
       "      <td>0.145304</td>\n",
       "      <td>0.145304</td>\n",
       "      <td>0.145304</td>\n",
       "    </tr>\n",
       "    <tr>\n",
       "      <th>5</th>\n",
       "      <td>0.043512</td>\n",
       "      <td>0.043512</td>\n",
       "      <td>0.043512</td>\n",
       "    </tr>\n",
       "    <tr>\n",
       "      <th>6</th>\n",
       "      <td>0.174194</td>\n",
       "      <td>0.174194</td>\n",
       "      <td>0.174194</td>\n",
       "    </tr>\n",
       "  </tbody>\n",
       "</table>\n",
       "</div>"
      ],
      "text/plain": [
       "             Top1      Top5     Top10\n",
       "cluster                              \n",
       "0        0.177505  0.177505  0.177505\n",
       "1        0.219751  0.219751  0.219751\n",
       "2        0.166937  0.166937  0.166937\n",
       "3        0.157224  0.157224  0.157224\n",
       "4        0.145304  0.145304  0.145304\n",
       "5        0.043512  0.043512  0.043512\n",
       "6        0.174194  0.174194  0.174194"
      ]
     },
     "metadata": {},
     "output_type": "display_data"
    }
   ],
   "source": [
    "\n",
    "# Accuratezza per cluster\n",
    "cluster_metrics = df.groupby('cluster').agg(\n",
    "    Top1  = ('hit',       'mean'),\n",
    "    Top5  = ('hit_top5',  'mean'),\n",
    "    Top10 = ('hit_top10', 'mean')\n",
    ").sort_index()\n",
    "display(cluster_metrics)\n"
   ]
  },
  {
   "cell_type": "code",
   "execution_count": null,
   "id": "a76a7c3e",
   "metadata": {},
   "outputs": [],
   "source": [
    "\n",
    "import pandas as pd\n",
    "# Confusion matrix semplificata\n",
    "cm = pd.crosstab(df['ground_truth'], df['pred_top1'], rownames=['Ground Truth'], colnames=['Predizione Top‑1'])"
   ]
  },
  {
   "cell_type": "code",
   "execution_count": null,
   "id": "5705fee4",
   "metadata": {},
   "outputs": [],
   "source": []
  },
  {
   "cell_type": "code",
   "execution_count": null,
   "id": "bfd5699e",
   "metadata": {},
   "outputs": [
    {
     "data": {
      "image/png": "[encoded data removed]",
      "text/plain": [
       "<Figure size 640x480 with 1 Axes>"
      ]
     },
     "metadata": {},
     "output_type": "display_data"
    }
   ],
   "source": [
    "import matplotlib.pyplot as plt\n",
    "\n",
    "# Assicuriamoci di avere i cluster ordinati per ID\n",
    "cluster_acc_sorted = cluster_acc.sort_index()\n",
    "\n",
    "fig, ax = plt.subplots()\n",
    "bars = cluster_acc_sorted.plot(kind='bar', ax=ax)\n",
    "\n",
    "# Titoli e etichette\n",
    "ax.set_xlabel('Cluster')\n",
    "ax.set_ylabel('Accuratezza')\n",
    "ax.set_title('Accuratezza per Cluster')\n",
    "\n",
    "# Aggiungiamo le percentuali sopra le barre\n",
    "for bar in bars.patches:\n",
    "    height = bar.get_height()\n",
    "    ax.annotate(f\"{height:.1%}\",\n",
    "                xy=(bar.get_x() + bar.get_width() / 2, height),\n",
    "                xytext=(0, 3),  # spostamento verticale in punti\n",
    "                textcoords=\"offset points\",\n",
    "                ha='center', va='bottom')\n",
    "\n",
    "plt.tight_layout()\n",
    "plt.show()\n"
   ]
  },
  {
   "cell_type": "code",
   "execution_count": null,
   "id": "0c22aabf",
   "metadata": {},
   "outputs": [
    {
     "data": {
      "image/png": "[encoded data removed]",
      "text/plain": [
       "<Figure size 1000x600 with 1 Axes>"
      ]
     },
     "metadata": {},
     "output_type": "display_data"
    }
   ],
   "source": [
    "import matplotlib.pyplot as plt\n",
    "\n",
    "ax = cluster_metrics.plot(\n",
    "    kind='bar', figsize=(10,6)\n",
    ")\n",
    "ax.set_xlabel('Cluster')\n",
    "ax.set_ylabel('Accuratezza')\n",
    "ax.set_title('Accuratezza per Cluster: Top-1, Top-5, Top-10')\n",
    "ax.legend(title='Metriche')\n",
    "plt.xticks(rotation=0)\n",
    "plt.tight_layout()\n",
    "plt.show()"
   ]
  }
 ],
 "metadata": {
  "kernelspec": {
   "display_name": "llm",
   "language": "python",
   "name": "python3"
  },
  "language_info": {
   "codemirror_mode": {
    "name": "ipython",
    "version": 3
   },
   "file_extension": ".py",
   "mimetype": "text/x-python",
   "name": "python",
   "nbconvert_exporter": "python",
   "pygments_lexer": "ipython3",
   "version": "3.11.4"
  }
 },
 "nbformat": 4,
 "nbformat_minor": 5
}
