{
 "cells": [
  {
   "cell_type": "markdown",
   "id": "fb56260d",
   "metadata": {},
   "source": [
    "# 📊 Metriche di Valutazione: Top-10 Prediction (output/geolife/top10_wot)"
   ]
  },
  {
   "cell_type": "code",
   "execution_count": 30,
   "id": "644f2019",
   "metadata": {},
   "outputs": [],
   "source": [
    "import os\n",
    "import pandas as pd\n",
    "import matplotlib.pyplot as plt\n",
    "import logging\n",
    "import ast\n",
    "from sklearn.metrics import f1_score\n"
   ]
  },
  {
   "cell_type": "code",
   "execution_count": 31,
   "id": "b1252aa8",
   "metadata": {},
   "outputs": [
    {
     "name": "stdout",
     "output_type": "stream",
     "text": [
      "✅ Acc@10: 0.828\n",
      "✅ F1 Score: 0.0317\n"
     ]
    }
   ],
   "source": [
    "# Configurazione logging\n",
    "logging.basicConfig(level=logging.DEBUG, format='%(asctime)s - %(levelname)s - %(message)s')\n",
    "\n",
    "# Funzione per convertire una stringa di lista in lista vera\n",
    "def parse_prediction(pred_str):\n",
    "    try:\n",
    "        return ast.literal_eval(pred_str)\n",
    "    except Exception as e:\n",
    "        logging.warning(f\"Parsing fallito per predizione: {pred_str} con errore: {e}\")\n",
    "        return []\n",
    "\n",
    "# Funzione per calcolare hit@k\n",
    "def calculate_hit_at_k(row, k=10):\n",
    "    pred_list = row['prediction']\n",
    "    return int(row['ground_truth']) in pred_list[:k] if isinstance(pred_list, list) else False\n",
    "\n",
    "# 📁 Percorso dei risultati\n",
    "output_dir = 'output/geolife/top10_wot'\n",
    "\n",
    "# 📄 Lista dei file\n",
    "file_list = [file for file in os.listdir(output_dir) if file.endswith('.csv')]\n",
    "file_path_list = [os.path.join(output_dir, file) for file in file_list]\n",
    "\n",
    "# 🧾 Inizializza DataFrame\n",
    "df = pd.DataFrame(columns=['user_id', 'ground_truth', 'prediction', 'reason'])\n",
    "\n",
    "# 🔄 Carica tutti i file\n",
    "for file_path in file_path_list:\n",
    "    #logging.debug(f\"🗂️ Tentativo di lettura del file: {file_path}\")\n",
    "    try:\n",
    "        iter_df = pd.read_csv(file_path)\n",
    "        #logging.debug(f\"✅ File letto con successo: {file_path}\")\n",
    "        df = pd.concat([df, iter_df], ignore_index=True)\n",
    "    except Exception as e:\n",
    "        logging.error(f\"❌ Errore nella lettura del file {file_path}: {e}\")\n",
    "\n",
    "# 🧹 Parsing e pulizia dati\n",
    "df['prediction'] = df['prediction'].apply(safe_parse_prediction)\n",
    "df['ground_truth'] = df['ground_truth'].astype(int)\n",
    "\n",
    "# 🎯 Calcola hit@10\n",
    "df['hit@10'] = df.apply(lambda row: calculate_hit_at_k(row, k=10), axis=1)\n",
    "\n",
    "# 🎯 Calcola metrica Acc@10\n",
    "acc_at_10 = df['hit@10'].mean()\n",
    "\n",
    "# 🧠 Predizione principale: primo elemento di ogni lista\n",
    "# ✅ Conversione forzata per evitare mix di tipi\n",
    "df['ground_truth'] = df['ground_truth'].astype(int)\n",
    "\n",
    "# 🧠 Predizione principale: primo elemento di ogni lista\n",
    "majority_preds = [int(row[0]) if isinstance(row, list) and row else -1 for row in df['prediction']]\n",
    "\n",
    "# 🎯 Calcolo F1 Score macro\n",
    "f1 = f1_score(df['ground_truth'], majority_preds, average='macro')\n",
    "\n",
    "# 📊 Risultati\n",
    "print(\"✅ Acc@10:\", round(acc_at_10, 4))\n",
    "print(\"✅ F1 Score:\", round(f1, 4))\n"
   ]
  },
  {
   "cell_type": "code",
   "execution_count": 32,
   "id": "7b6e62da",
   "metadata": {},
   "outputs": [
    {
     "data": {
      "text/html": [
       "<div>\n",
       "<style scoped>\n",
       "    .dataframe tbody tr th:only-of-type {\n",
       "        vertical-align: middle;\n",
       "    }\n",
       "\n",
       "    .dataframe tbody tr th {\n",
       "        vertical-align: top;\n",
       "    }\n",
       "\n",
       "    .dataframe thead th {\n",
       "        text-align: right;\n",
       "    }\n",
       "</style>\n",
       "<table border=\"1\" class=\"dataframe\">\n",
       "  <thead>\n",
       "    <tr style=\"text-align: right;\">\n",
       "      <th></th>\n",
       "      <th>user_id</th>\n",
       "      <th>ground_truth</th>\n",
       "      <th>prediction</th>\n",
       "      <th>reason</th>\n",
       "    </tr>\n",
       "  </thead>\n",
       "  <tbody>\n",
       "    <tr>\n",
       "      <th>0</th>\n",
       "      <td>40</td>\n",
       "      <td>1</td>\n",
       "      <td>[1, 1147, 1006, 976, 1003, 960, 960, 960, 960,...</td>\n",
       "      <td>The prediction is based on the user's recent s...</td>\n",
       "    </tr>\n",
       "    <tr>\n",
       "      <th>1</th>\n",
       "      <td>40</td>\n",
       "      <td>1006</td>\n",
       "      <td>[1147, 1006, 1, 976, 1003, 960, 1147, 1147, 11...</td>\n",
       "      <td>The user has a strong preference for staying a...</td>\n",
       "    </tr>\n",
       "    <tr>\n",
       "      <th>2</th>\n",
       "      <td>40</td>\n",
       "      <td>1147</td>\n",
       "      <td>[1147, 1006, 1, 976, 1003, 960, 1140, 1142, 10...</td>\n",
       "      <td>The user's recent activity pattern shows a str...</td>\n",
       "    </tr>\n",
       "    <tr>\n",
       "      <th>3</th>\n",
       "      <td>40</td>\n",
       "      <td>1147</td>\n",
       "      <td>[1147, 1006, 1, 976, 1003, 960, 960, 1147, 100...</td>\n",
       "      <td>The user's recent activities and historical st...</td>\n",
       "    </tr>\n",
       "    <tr>\n",
       "      <th>4</th>\n",
       "      <td>40</td>\n",
       "      <td>1006</td>\n",
       "      <td>[1147, 1006, 1, 976, 1003, 960, 960, 1147, 1, ...</td>\n",
       "      <td>Based on the user's activity pattern and recen...</td>\n",
       "    </tr>\n",
       "  </tbody>\n",
       "</table>\n",
       "</div>"
      ],
      "text/plain": [
       "  user_id  ground_truth                                         prediction  \\\n",
       "0      40             1  [1, 1147, 1006, 976, 1003, 960, 960, 960, 960,...   \n",
       "1      40          1006  [1147, 1006, 1, 976, 1003, 960, 1147, 1147, 11...   \n",
       "2      40          1147  [1147, 1006, 1, 976, 1003, 960, 1140, 1142, 10...   \n",
       "3      40          1147  [1147, 1006, 1, 976, 1003, 960, 960, 1147, 100...   \n",
       "4      40          1006  [1147, 1006, 1, 976, 1003, 960, 960, 1147, 1, ...   \n",
       "\n",
       "                                              reason  \n",
       "0  The prediction is based on the user's recent s...  \n",
       "1  The user has a strong preference for staying a...  \n",
       "2  The user's recent activity pattern shows a str...  \n",
       "3  The user's recent activities and historical st...  \n",
       "4  Based on the user's activity pattern and recen...  "
      ]
     },
     "execution_count": 32,
     "metadata": {},
     "output_type": "execute_result"
    }
   ],
   "source": [
    "# Carica tutti i CSV da output/geolife/top10_wot\n",
    "output_dir = '/Users/simo/Desktop/LLM-Mob-As-Mobility-Interpreter/output/geolife/top10_wot'\n",
    "\n",
    "file_list = [file for file in os.listdir(output_dir) if file.endswith('.csv')]\n",
    "file_path_list = [os.path.join(output_dir, file) for file in file_list]\n",
    "\n",
    "# Unisci in un unico dataframe\n",
    "df = pd.DataFrame(columns=['user_id', 'ground_truth', 'prediction', 'reason'])\n",
    "for file_path in file_path_list:\n",
    "    iter_df = pd.read_csv(file_path)\n",
    "    df = pd.concat([df, iter_df], ignore_index=True)\n",
    "\n",
    "df['prediction'] = df['prediction'].apply(lambda x: ast.literal_eval(x) if isinstance(x, str) else x)\n",
    "df['ground_truth'] = df['ground_truth'].astype(int)\n",
    "df.head()\n",
    "\n",
    "\n"
   ]
  },
  {
   "cell_type": "code",
   "execution_count": 33,
   "id": "dc2c446d",
   "metadata": {},
   "outputs": [
    {
     "data": {
      "image/png": "[encoded data removed]",
      "text/plain": [
       "<Figure size 800x400 with 1 Axes>"
      ]
     },
     "metadata": {},
     "output_type": "display_data"
    }
   ],
   "source": [
    "# 📈 Visualizza grafici\n",
    "plt.figure(figsize=(8, 4))\n",
    "plt.bar(['Acc@10', 'F1 Score'], [acc_at_10, f1], color=['skyblue', 'lightcoral'])\n",
    "plt.title('Metriche di valutazione Top-10')\n",
    "plt.ylabel('Score')\n",
    "plt.ylim(0, 1)\n",
    "plt.grid(axis='y', linestyle='--', alpha=0.7)\n",
    "plt.tight_layout()\n",
    "plt.show()"
   ]
  },
  {
   "cell_type": "code",
   "execution_count": 34,
   "id": "eae6ae2a",
   "metadata": {},
   "outputs": [
    {
     "name": "stdout",
     "output_type": "stream",
     "text": [
      "✅ Acc@10: 0.828\n",
      "✅ F1 Score: 0.0317\n"
     ]
    }
   ],
   "source": [
    "from sklearn.metrics import f1_score\n",
    "import ast\n",
    "\n",
    "# 🔒 Forziamo ground_truth a interi\n",
    "df['ground_truth'] = df['ground_truth'].astype(int)\n",
    "\n",
    "# 🧠 Parsing sicuro della colonna prediction\n",
    "def safe_parse_prediction(x):\n",
    "    try:\n",
    "        if isinstance(x, list):\n",
    "            return x  # già una lista\n",
    "        if isinstance(x, float) and pd.isna(x):\n",
    "            return []  # valore mancante\n",
    "        return ast.literal_eval(x)\n",
    "    except Exception as e:\n",
    "        print(f\"⚠️ Parsing fallito per predizione: {x} con errore: {e}\")\n",
    "        return []\n",
    "\n",
    "df['prediction'] = df['prediction'].apply(safe_parse_prediction)\n",
    "\n",
    "# ✅ Calcolo hit@10\n",
    "df['hit@10'] = df.apply(lambda row: row['ground_truth'] in row['prediction'], axis=1)\n",
    "acc_at_10 = df['hit@10'].mean()\n",
    "\n",
    "# ✅ Calcolo majority prediction (top-1)\n",
    "majority_preds = [\n",
    "    int(row[0]) if isinstance(row, list) and len(row) > 0 else -1\n",
    "    for row in df['prediction']\n",
    "]\n",
    "\n",
    "# ✅ F1 score macro\n",
    "f1 = f1_score(df['ground_truth'], majority_preds, average='macro')\n",
    "\n",
    "# ✅ Output finale\n",
    "print(\"✅ Acc@10:\", round(acc_at_10, 4))\n",
    "print(\"✅ F1 Score:\", round(f1, 4))\n"
   ]
  }
 ],
 "metadata": {
  "kernelspec": {
   "display_name": "venv",
   "language": "python",
   "name": "python3"
  },
  "language_info": {
   "codemirror_mode": {
    "name": "ipython",
    "version": 3
   },
   "file_extension": ".py",
   "mimetype": "text/x-python",
   "name": "python",
   "nbconvert_exporter": "python",
   "pygments_lexer": "ipython3",
   "version": "3.11.4"
  }
 },
 "nbformat": 4,
 "nbformat_minor": 5
}
