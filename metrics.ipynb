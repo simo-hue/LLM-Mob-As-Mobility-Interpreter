{
 "cells": [
  {
   "cell_type": "code",
   "execution_count": 1,
   "metadata": {},
   "outputs": [],
   "source": [
    "import os\n",
    "import pandas as pd\n",
    "from sklearn.metrics import f1_score\n",
    "import ast\n",
    "import numpy as np\n"
   ]
  },
  {
   "cell_type": "markdown",
   "metadata": {},
   "source": [
    "## Utils"
   ]
  },
  {
   "cell_type": "code",
   "execution_count": 3,
   "metadata": {},
   "outputs": [],
   "source": [
    "def get_acc1_f1(df):\n",
    "    acc1 = (df['prediction'] == df['ground_truth']).sum() / len(df)\n",
    "    f1 = f1_score(df['ground_truth'], df['prediction'], average='weighted')\n",
    "    return acc1, f1\n",
    "\n",
    "def get_is_correct(row):\n",
    "    pred_list = row['prediction']\n",
    "    if row['ground_truth'] in pred_list:\n",
    "        row['is_correct'] = True\n",
    "    else:\n",
    "        row['is_correct'] = False\n",
    "    \n",
    "    return row\n",
    "\n",
    "\n",
    "def get_is_correct10(row):\n",
    "    pred_list = row['top10']\n",
    "    if row['ground_truth'] in pred_list:\n",
    "        row['is_correct10'] = True\n",
    "    else:\n",
    "        row['is_correct10'] = False\n",
    "        \n",
    "    pred_list = row['top5']\n",
    "    if row['ground_truth'] in pred_list:\n",
    "        row['is_correct5'] = True\n",
    "    else:\n",
    "        row['is_correct5'] = False\n",
    "\n",
    "    pred = row['top1']\n",
    "    if pred == row['ground_truth']:\n",
    "        row['is_correct1'] = True\n",
    "    else:\n",
    "        row['is_correct1'] = False\n",
    "    \n",
    "    return row\n",
    "\n",
    "\n",
    "def first_nonzero(arr, axis, invalid_val=-1):\n",
    "    mask = arr!=0\n",
    "    return np.where(mask.any(axis=axis), mask.argmax(axis=axis), invalid_val)\n",
    "\n",
    "\n",
    "def get_ndcg(prediction, targets, k=10):\n",
    "    \"\"\"\n",
    "    Calculates the NDCG score for the given predictions and targets.\n",
    "\n",
    "    Args:\n",
    "        prediction (Nxk): list of lists. the softmax output of the model.\n",
    "        targets (N): torch.LongTensor. actual target place id.\n",
    "\n",
    "    Returns:\n",
    "        the sum ndcg score\n",
    "    \"\"\"\n",
    "    for _, xi in enumerate(prediction):\n",
    "        if len(xi) < k:\n",
    "            #print(f\"the {i}th length: {len(xi)}\")\n",
    "            xi += [-5 for _ in range(k-len(xi))]\n",
    "        elif len(xi) > k:\n",
    "            xi = xi[:k]\n",
    "        else:\n",
    "            pass\n",
    "    \n",
    "    n_sample = len(prediction)\n",
    "    prediction = np.array(prediction)\n",
    "    targets = np.broadcast_to(targets.reshape(-1, 1), prediction.shape)\n",
    "    hits = first_nonzero(prediction == targets, axis=1, invalid_val=-1)\n",
    "    hits = hits[hits>=0]\n",
    "    ranks = hits + 1\n",
    "    ndcg = 1 / np.log2(ranks + 1)\n",
    "    return np.sum(ndcg) / n_sample\n",
    "    "
   ]
  },
  {
   "cell_type": "markdown",
   "metadata": {},
   "source": [
    "## Top10"
   ]
  },
  {
   "cell_type": "code",
   "execution_count": 8,
   "metadata": {},
   "outputs": [
    {
     "name": "stdout",
     "output_type": "stream",
     "text": [
      "number of samples:  3459\n",
      "Acc@1:  0.3295750216825672\n",
      "Acc@5:  0.8291413703382481\n",
      "Acc@10:  0.8736629083550159\n",
      "Weighted F1:  0.21629743615527502\n",
      "NDCG@10:  0.6276420364672755\n"
     ]
    }
   ],
   "source": [
    "# Calculate the metric for all user\n",
    "output_dir = 'results/geolife/top10_wot'\n",
    "file_list = [file for file in os.listdir(output_dir) if file.endswith('.csv')]\n",
    "# print(file_list)\n",
    "file_path_list = [os.path.join(output_dir, file) for file in file_list]\n",
    "#file_path_list = file_path_list[:1]\n",
    "#print(file_path_list)\n",
    "\n",
    "df = pd.DataFrame({\n",
    "    'user_id': None,\n",
    "    'ground_truth': None,\n",
    "    'prediction': None,\n",
    "    'reason': None\n",
    "}, index=[])\n",
    "\n",
    "for file_path in file_path_list:\n",
    "    iter_df = pd.read_csv(file_path)\n",
    "    if output_dir[-1] != '1':\n",
    "        pred_series = iter_df['prediction'].apply(lambda x: ast.literal_eval(x))  # A pandas series\n",
    "        iter_df['top10'] = pred_series.apply(lambda x: x[:10] if type(x) == list else [x] * 10)\n",
    "        iter_df['top5'] = pred_series.apply(lambda x: x[:5] if type(x) == list else [x] * 5)\n",
    "        iter_df['top1'] = pred_series.apply(lambda x: x[0] if type(x) == list else x)\n",
    "        #iter_df['prediction'] = iter_df['prediction'].apply(lambda x: x.strip('][').split(', '))\n",
    "    df = pd.concat([df, iter_df], ignore_index=True)\n",
    "    \n",
    "\n",
    "df = df.apply(func=get_is_correct10, axis=1)\n",
    "\n",
    "print(\"number of samples: \", len(df))\n",
    "\n",
    "acc1 = (df['is_correct1']).sum() / len(df)\n",
    "acc5 = (df['is_correct5']).sum() / len(df)\n",
    "acc10 = (df['is_correct10']).sum() / len(df)\n",
    "f1 = f1_score(df['ground_truth'], df['top1'], average='weighted')\n",
    "preds = df['top10'].tolist()\n",
    "targets = np.array(df['ground_truth'].tolist())\n",
    "ndcg = get_ndcg(prediction=preds, targets=targets, k=10)\n",
    "\n",
    "print(\"Acc@1: \", acc1)\n",
    "print(\"Acc@5: \", acc5)\n",
    "print(\"Acc@10: \", acc10)\n",
    "print(\"Weighted F1: \", f1)\n",
    "print(\"NDCG@10: \", ndcg)"
   ]
  },
  {
   "cell_type": "markdown",
   "metadata": {},
   "source": [
    "# Top1"
   ]
  },
  {
   "cell_type": "code",
   "execution_count": 6,
   "metadata": {},
   "outputs": [
    {
     "name": "stdout",
     "output_type": "stream",
     "text": [
      "['01.csv', '02.csv', '03.csv', '04.csv', '05.csv', '06.csv', '07.csv', '08.csv', '09.csv', '10.csv', '11.csv', '12.csv', '13.csv', '14.csv', '15.csv', '16.csv', '17.csv', '18.csv', '19.csv', '20.csv', '21.csv', '22.csv', '23.csv', '24.csv', '25.csv', '26.csv', '27.csv', '28.csv', '29.csv', '30.csv', '31.csv', '32.csv', '33.csv', '34.csv', '35.csv', '36.csv', '37.csv', '38.csv', '39.csv', '40.csv', '41.csv', '42.csv', '43.csv', '44.csv', '45.csv']\n",
      "Acc@1:  0.4512864989881469\n",
      "F1:  0.403742729579556\n"
     ]
    }
   ],
   "source": [
    "# Calculate the metric for all user\n",
    "output_dir = 'results/geolife/top1'\n",
    "file_list = [file for file in os.listdir(output_dir) if file.endswith('.csv')]\n",
    "print(file_list)\n",
    "file_path_list = [os.path.join(output_dir, file) for file in file_list]\n",
    "\n",
    "df = pd.DataFrame({\n",
    "    'user_id': None,\n",
    "    'ground_truth': None,\n",
    "    'prediction': None,\n",
    "    'reason': None\n",
    "}, index=[])\n",
    "\n",
    "for file_path in file_path_list:\n",
    "    iter_df = pd.read_csv(file_path)\n",
    "    df = pd.concat([df, iter_df], ignore_index=True)\n",
    "\n",
    "df['prediction'] = df['prediction'].apply(lambda x: int(x))\n",
    "df['ground_truth'] = df['ground_truth'].apply(lambda x: int(x))\n",
    "\n",
    "acc1, f1 = get_acc1_f1(df)\n",
    "print(\"Acc@1: \", acc1)\n",
    "print(\"F1: \", f1)"
   ]
  },
  {
   "cell_type": "code",
   "execution_count": null,
   "metadata": {},
   "outputs": [],
   "source": []
  }
 ],
 "metadata": {
  "kernelspec": {
   "display_name": "py310cu118",
   "language": "python",
   "name": "python3"
  },
  "language_info": {
   "codemirror_mode": {
    "name": "ipython",
    "version": 3
   },
   "file_extension": ".py",
   "mimetype": "text/x-python",
   "name": "python",
   "nbconvert_exporter": "python",
   "pygments_lexer": "ipython3",
   "version": "3.10.13"
  },
  "orig_nbformat": 4
 },
 "nbformat": 4,
 "nbformat_minor": 2
}
